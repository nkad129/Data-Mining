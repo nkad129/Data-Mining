{
 "cells": [
  {
   "cell_type": "code",
   "execution_count": 2,
   "metadata": {
    "collapsed": true
   },
   "outputs": [],
   "source": [
    "import pandas as pd\n",
    "import numpy as np"
   ]
  },
  {
   "cell_type": "code",
   "execution_count": 3,
   "metadata": {},
   "outputs": [
    {
     "data": {
      "text/html": [
       "<div>\n",
       "<style>\n",
       "    .dataframe thead tr:only-child th {\n",
       "        text-align: right;\n",
       "    }\n",
       "\n",
       "    .dataframe thead th {\n",
       "        text-align: left;\n",
       "    }\n",
       "\n",
       "    .dataframe tbody tr th {\n",
       "        vertical-align: top;\n",
       "    }\n",
       "</style>\n",
       "<table border=\"1\" class=\"dataframe\">\n",
       "  <thead>\n",
       "    <tr style=\"text-align: right;\">\n",
       "      <th></th>\n",
       "      <th>book_1</th>\n",
       "      <th>book_2</th>\n",
       "      <th>book_3</th>\n",
       "      <th>book_4</th>\n",
       "      <th>book_5</th>\n",
       "      <th>book_6</th>\n",
       "      <th>book_7</th>\n",
       "      <th>book_8</th>\n",
       "      <th>book_9</th>\n",
       "      <th>book_10</th>\n",
       "      <th>...</th>\n",
       "      <th>book_91</th>\n",
       "      <th>book_92</th>\n",
       "      <th>book_93</th>\n",
       "      <th>book_94</th>\n",
       "      <th>book_95</th>\n",
       "      <th>book_96</th>\n",
       "      <th>book_97</th>\n",
       "      <th>book_98</th>\n",
       "      <th>book_99</th>\n",
       "      <th>book_100</th>\n",
       "    </tr>\n",
       "    <tr>\n",
       "      <th>library</th>\n",
       "      <th></th>\n",
       "      <th></th>\n",
       "      <th></th>\n",
       "      <th></th>\n",
       "      <th></th>\n",
       "      <th></th>\n",
       "      <th></th>\n",
       "      <th></th>\n",
       "      <th></th>\n",
       "      <th></th>\n",
       "      <th></th>\n",
       "      <th></th>\n",
       "      <th></th>\n",
       "      <th></th>\n",
       "      <th></th>\n",
       "      <th></th>\n",
       "      <th></th>\n",
       "      <th></th>\n",
       "      <th></th>\n",
       "      <th></th>\n",
       "      <th></th>\n",
       "    </tr>\n",
       "  </thead>\n",
       "  <tbody>\n",
       "    <tr>\n",
       "      <th>Jitadel_Maester_Library</th>\n",
       "      <td>158</td>\n",
       "      <td>25</td>\n",
       "      <td>180</td>\n",
       "      <td>152</td>\n",
       "      <td>96</td>\n",
       "      <td>244</td>\n",
       "      <td>72</td>\n",
       "      <td>175</td>\n",
       "      <td>94</td>\n",
       "      <td>146</td>\n",
       "      <td>...</td>\n",
       "      <td>44</td>\n",
       "      <td>98</td>\n",
       "      <td>125</td>\n",
       "      <td>165</td>\n",
       "      <td>42</td>\n",
       "      <td>193</td>\n",
       "      <td>96</td>\n",
       "      <td>53</td>\n",
       "      <td>128</td>\n",
       "      <td>61</td>\n",
       "    </tr>\n",
       "    <tr>\n",
       "      <th>Kastle_Black_library</th>\n",
       "      <td>173</td>\n",
       "      <td>191</td>\n",
       "      <td>33</td>\n",
       "      <td>165</td>\n",
       "      <td>108</td>\n",
       "      <td>128</td>\n",
       "      <td>167</td>\n",
       "      <td>105</td>\n",
       "      <td>148</td>\n",
       "      <td>67</td>\n",
       "      <td>...</td>\n",
       "      <td>206</td>\n",
       "      <td>89</td>\n",
       "      <td>152</td>\n",
       "      <td>162</td>\n",
       "      <td>134</td>\n",
       "      <td>179</td>\n",
       "      <td>129</td>\n",
       "      <td>105</td>\n",
       "      <td>151</td>\n",
       "      <td>70</td>\n",
       "    </tr>\n",
       "  </tbody>\n",
       "</table>\n",
       "<p>2 rows × 100 columns</p>\n",
       "</div>"
      ],
      "text/plain": [
       "                         book_1  book_2  book_3  book_4  book_5  book_6  \\\n",
       "library                                                                   \n",
       "Jitadel_Maester_Library     158      25     180     152      96     244   \n",
       "Kastle_Black_library        173     191      33     165     108     128   \n",
       "\n",
       "                         book_7  book_8  book_9  book_10    ...     book_91  \\\n",
       "library                                                     ...               \n",
       "Jitadel_Maester_Library      72     175      94      146    ...          44   \n",
       "Kastle_Black_library        167     105     148       67    ...         206   \n",
       "\n",
       "                         book_92  book_93  book_94  book_95  book_96  book_97  \\\n",
       "library                                                                         \n",
       "Jitadel_Maester_Library       98      125      165       42      193       96   \n",
       "Kastle_Black_library          89      152      162      134      179      129   \n",
       "\n",
       "                         book_98  book_99  book_100  \n",
       "library                                              \n",
       "Jitadel_Maester_Library       53      128        61  \n",
       "Kastle_Black_library         105      151        70  \n",
       "\n",
       "[2 rows x 100 columns]"
      ]
     },
     "execution_count": 3,
     "metadata": {},
     "output_type": "execute_result"
    }
   ],
   "source": [
    "path = r'C:\\Users\\nkad1\\Desktop\\CS 412 Assignments\\Assignment 1\\data.libraries.inventories.txt'\n",
    "df = pd.read_csv(path, sep='\\t')\n",
    "df.set_index('library', inplace=True)\n",
    "df"
   ]
  },
  {
   "cell_type": "markdown",
   "metadata": {},
   "source": [
    "## a. calculate the Jaccard coefficient of Citadel's Maester Library (CML) and Castle Black's library(CBL)"
   ]
  },
  {
   "cell_type": "code",
   "execution_count": 4,
   "metadata": {},
   "outputs": [
    {
     "data": {
      "text/html": [
       "<div>\n",
       "<style>\n",
       "    .dataframe thead tr:only-child th {\n",
       "        text-align: right;\n",
       "    }\n",
       "\n",
       "    .dataframe thead th {\n",
       "        text-align: left;\n",
       "    }\n",
       "\n",
       "    .dataframe tbody tr th {\n",
       "        vertical-align: top;\n",
       "    }\n",
       "</style>\n",
       "<table border=\"1\" class=\"dataframe\">\n",
       "  <thead>\n",
       "    <tr style=\"text-align: right;\">\n",
       "      <th></th>\n",
       "      <th>0</th>\n",
       "      <th>1</th>\n",
       "    </tr>\n",
       "  </thead>\n",
       "  <tbody>\n",
       "    <tr>\n",
       "      <th>0</th>\n",
       "      <td>20</td>\n",
       "      <td>120</td>\n",
       "    </tr>\n",
       "    <tr>\n",
       "      <th>1</th>\n",
       "      <td>2</td>\n",
       "      <td>58</td>\n",
       "    </tr>\n",
       "  </tbody>\n",
       "</table>\n",
       "</div>"
      ],
      "text/plain": [
       "    0    1\n",
       "0  20  120\n",
       "1   2   58"
      ]
     },
     "execution_count": 4,
     "metadata": {},
     "output_type": "execute_result"
    }
   ],
   "source": [
    "table_1_data = [[20, 120],[2, 58]]\n",
    "table_1_df = pd.DataFrame(table_1_data)\n",
    "table_1_df"
   ]
  },
  {
   "cell_type": "code",
   "execution_count": 5,
   "metadata": {},
   "outputs": [
    {
     "data": {
      "text/plain": [
       "'0.322'"
      ]
     },
     "execution_count": 5,
     "metadata": {},
     "output_type": "execute_result"
    }
   ],
   "source": [
    "#Jaccard Coefficient: q / (q + r + s)\n",
    "jaccard_index = table_1_df.iloc[1,1] / (table_1_df.iloc[1,1] + table_1_df.iloc[0,1] + table_1_df.iloc[1,0])\n",
    "jaccard_index\n",
    "\"{0:.3f}\".format(jaccard_index)"
   ]
  },
  {
   "cell_type": "markdown",
   "metadata": {},
   "source": [
    "## b. calculate minkowski distance of two vector with regard to different h values:"
   ]
  },
  {
   "cell_type": "code",
   "execution_count": 18,
   "metadata": {
    "collapsed": true
   },
   "outputs": [],
   "source": [
    "from scipy.spatial.distance import cityblock, euclidean, chebyshev"
   ]
  },
  {
   "cell_type": "code",
   "execution_count": 7,
   "metadata": {
    "collapsed": true
   },
   "outputs": [],
   "source": [
    "citadel_library = df.loc['Jitadel_Maester_Library',:]\n",
    "castle_library = df.loc['Kastle_Black_library',:]"
   ]
  },
  {
   "cell_type": "markdown",
   "metadata": {},
   "source": [
    "### 1. h = 1"
   ]
  },
  {
   "cell_type": "code",
   "execution_count": 15,
   "metadata": {},
   "outputs": [
    {
     "data": {
      "text/plain": [
       "5700"
      ]
     },
     "execution_count": 15,
     "metadata": {},
     "output_type": "execute_result"
    }
   ],
   "source": [
    "#manhattan = cityblock(citadel_library, castle_library) = 5700\n",
    "manhattan = abs(citadel_library - castle_library).sum()\n",
    "manhattan"
   ]
  },
  {
   "cell_type": "markdown",
   "metadata": {},
   "source": [
    "### 2. h = 2"
   ]
  },
  {
   "cell_type": "code",
   "execution_count": 20,
   "metadata": {},
   "outputs": [
    {
     "data": {
      "text/plain": [
       "'695.950'"
      ]
     },
     "execution_count": 20,
     "metadata": {},
     "output_type": "execute_result"
    }
   ],
   "source": [
    "#euclidean_dist = euclidean(citadel_library, castle_library) = 695.950\n",
    "euclidean_dist = np.sqrt(((citadel_library - castle_library)**2).sum())\n",
    "\"{0:.3f}\".format(euclidean_dist)"
   ]
  },
  {
   "cell_type": "markdown",
   "metadata": {},
   "source": [
    "### 3. h = inf"
   ]
  },
  {
   "cell_type": "code",
   "execution_count": 22,
   "metadata": {},
   "outputs": [
    {
     "data": {
      "text/plain": [
       "166"
      ]
     },
     "execution_count": 22,
     "metadata": {},
     "output_type": "execute_result"
    }
   ],
   "source": [
    "#chebyshev = chebyshev(citadel_library, castle_library) = 166\n",
    "chebyshev_values = abs(citadel_library - castle_library)\n",
    "chebyshev = np.max(chebyshev_values)\n",
    "chebyshev"
   ]
  },
  {
   "cell_type": "markdown",
   "metadata": {},
   "source": [
    "## c. Cosine similarity between Citadel's Master Library and Castle Black's with regard to the feature vector.\n",
    "\n",
    "Cosine similarity is used to measure the similarity between two non-zero vectors. It is important because it does not consider zero-dimensions or values. The closer the output is to 1, the more similar the two vectors (or data sets) are. 0 means no similarity."
   ]
  },
  {
   "cell_type": "code",
   "execution_count": 35,
   "metadata": {},
   "outputs": [
    {
     "data": {
      "text/plain": [
       "'0.845'"
      ]
     },
     "execution_count": 35,
     "metadata": {},
     "output_type": "execute_result"
    }
   ],
   "source": [
    "from scipy.spatial.distance import cosine\n",
    "import numpy.linalg as la\n",
    "    \n",
    "#cosine_similarity = 1 - cosine(citadel_library, castle_library) # = 0.155\n",
    "#cosine similarity = 1 - cosine difference. scipy.spatial.distance.cosine calculates cosine distance\n",
    "cosine_similarity = np.dot(citadel_library, castle_library) /  (la.norm(citadel_library, 2) * la.norm(castle_library, 2))\n",
    "\"{0:.3f}\".format(cosine_similarity)"
   ]
  },
  {
   "cell_type": "markdown",
   "metadata": {},
   "source": [
    "## d. Calculate Kullback-Leibler divergence on Citadel's Master Library and Castle Black's Library\n",
    "\n",
    "Kullback-Liebler divergence (i.e. relative entropy) is used to measure the difference of two probability distributions over a variable. It measures the amount of information lost when one distribution is used to approximate the other one.\n",
    "\n",
    "Keep in mind that KL divergence is NOT metric, since it does not satisfy all three properties necessary for a metric measure. It is not symmetric (the KL from dist. 1 to dist 2 is NOT the same as KL from dist. 2 to dist 1), and it does not satisfy triangular inequality."
   ]
  },
  {
   "cell_type": "code",
   "execution_count": 12,
   "metadata": {
    "collapsed": true
   },
   "outputs": [],
   "source": [
    "from scipy.stats import entropy"
   ]
  },
  {
   "cell_type": "code",
   "execution_count": 13,
   "metadata": {
    "collapsed": true
   },
   "outputs": [],
   "source": [
    "#Get sum of all books in each library\n",
    "citadel_books_sum = citadel_library.sum()\n",
    "castle_books_sum = castle_library.sum()\n",
    "\n",
    "#Divide amounts of every book available in each library, by overall sum. Obtains\n",
    "#probability distributions to utilize for KL divergence.\n",
    "citadel_p_dist = citadel_library / citadel_books_sum\n",
    "castle_p_dist = castle_library / castle_books_sum"
   ]
  },
  {
   "cell_type": "code",
   "execution_count": 30,
   "metadata": {},
   "outputs": [
    {
     "name": "stderr",
     "output_type": "stream",
     "text": [
      "C:\\ProgramData\\Anaconda3\\lib\\site-packages\\ipykernel_launcher.py:3: RuntimeWarning: divide by zero encountered in log\n",
      "  This is separate from the ipykernel package so we can avoid doing imports until\n"
     ]
    },
    {
     "data": {
      "text/plain": [
       "'0.223'"
      ]
     },
     "execution_count": 30,
     "metadata": {},
     "output_type": "execute_result"
    }
   ],
   "source": [
    "#kl_divergence = entropy(castle_p_dist, citadel_p_dist) = 0.233\n",
    "#kl_divergence = (citadel_p_dist * np.log(citadel_p_dist / castle_p_dist)).sum()\n",
    "kl_divergence = (castle_p_dist * np.log(castle_p_dist / citadel_p_dist)).sum()\n",
    "\"{0:.3f}\".format(kl_divergence)"
   ]
  }
 ],
 "metadata": {
  "kernelspec": {
   "display_name": "Python 3",
   "language": "python",
   "name": "python3"
  },
  "language_info": {
   "codemirror_mode": {
    "name": "ipython",
    "version": 3
   },
   "file_extension": ".py",
   "mimetype": "text/x-python",
   "name": "python",
   "nbconvert_exporter": "python",
   "pygments_lexer": "ipython3",
   "version": "3.6.1"
  }
 },
 "nbformat": 4,
 "nbformat_minor": 2
}
