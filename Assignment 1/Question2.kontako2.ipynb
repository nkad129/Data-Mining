{
 "cells": [
  {
   "cell_type": "code",
   "execution_count": 1,
   "metadata": {
    "collapsed": true
   },
   "outputs": [],
   "source": [
    "import pandas as pd\n",
    "import numpy as np"
   ]
  },
  {
   "cell_type": "code",
   "execution_count": 2,
   "metadata": {},
   "outputs": [
    {
     "data": {
      "text/html": [
       "<div>\n",
       "<style>\n",
       "    .dataframe thead tr:only-child th {\n",
       "        text-align: right;\n",
       "    }\n",
       "\n",
       "    .dataframe thead th {\n",
       "        text-align: left;\n",
       "    }\n",
       "\n",
       "    .dataframe tbody tr th {\n",
       "        vertical-align: top;\n",
       "    }\n",
       "</style>\n",
       "<table border=\"1\" class=\"dataframe\">\n",
       "  <thead>\n",
       "    <tr style=\"text-align: right;\">\n",
       "      <th></th>\n",
       "      <th>Student ID</th>\n",
       "      <th>MidTerm Scores</th>\n",
       "      <th>Final Scores</th>\n",
       "    </tr>\n",
       "  </thead>\n",
       "  <tbody>\n",
       "    <tr>\n",
       "      <th>0</th>\n",
       "      <td>0</td>\n",
       "      <td>97</td>\n",
       "      <td>95</td>\n",
       "    </tr>\n",
       "    <tr>\n",
       "      <th>1</th>\n",
       "      <td>1</td>\n",
       "      <td>83</td>\n",
       "      <td>99</td>\n",
       "    </tr>\n",
       "    <tr>\n",
       "      <th>2</th>\n",
       "      <td>2</td>\n",
       "      <td>79</td>\n",
       "      <td>81</td>\n",
       "    </tr>\n",
       "    <tr>\n",
       "      <th>3</th>\n",
       "      <td>3</td>\n",
       "      <td>72</td>\n",
       "      <td>84</td>\n",
       "    </tr>\n",
       "    <tr>\n",
       "      <th>4</th>\n",
       "      <td>4</td>\n",
       "      <td>92</td>\n",
       "      <td>84</td>\n",
       "    </tr>\n",
       "  </tbody>\n",
       "</table>\n",
       "</div>"
      ],
      "text/plain": [
       "   Student ID  MidTerm Scores  Final Scores\n",
       "0           0              97            95\n",
       "1           1              83            99\n",
       "2           2              79            81\n",
       "3           3              72            84\n",
       "4           4              92            84"
      ]
     },
     "execution_count": 2,
     "metadata": {},
     "output_type": "execute_result"
    }
   ],
   "source": [
    "path = r'C:\\Users\\nkad1\\Desktop\\CS 412 Assignments\\Assignment 1\\data.online.scores.txt'\n",
    "df = pd.read_csv(path, sep='\\t', names=['Student ID', 'MidTerm Scores', 'Final Scores'])\n",
    "df.head()"
   ]
  },
  {
   "cell_type": "code",
   "execution_count": 3,
   "metadata": {},
   "outputs": [
    {
     "data": {
      "text/html": [
       "<div>\n",
       "<style>\n",
       "    .dataframe thead tr:only-child th {\n",
       "        text-align: right;\n",
       "    }\n",
       "\n",
       "    .dataframe thead th {\n",
       "        text-align: left;\n",
       "    }\n",
       "\n",
       "    .dataframe tbody tr th {\n",
       "        vertical-align: top;\n",
       "    }\n",
       "</style>\n",
       "<table border=\"1\" class=\"dataframe\">\n",
       "  <thead>\n",
       "    <tr style=\"text-align: right;\">\n",
       "      <th></th>\n",
       "      <th>Student ID</th>\n",
       "      <th>MidTerm Scores</th>\n",
       "      <th>Final Scores</th>\n",
       "    </tr>\n",
       "  </thead>\n",
       "  <tbody>\n",
       "    <tr>\n",
       "      <th>0</th>\n",
       "      <td>-1.729454</td>\n",
       "      <td>1.540998</td>\n",
       "      <td>0.724952</td>\n",
       "    </tr>\n",
       "    <tr>\n",
       "      <th>1</th>\n",
       "      <td>-1.725992</td>\n",
       "      <td>0.477455</td>\n",
       "      <td>1.091274</td>\n",
       "    </tr>\n",
       "    <tr>\n",
       "      <th>2</th>\n",
       "      <td>-1.722530</td>\n",
       "      <td>0.173585</td>\n",
       "      <td>-0.557176</td>\n",
       "    </tr>\n",
       "    <tr>\n",
       "      <th>3</th>\n",
       "      <td>-1.719067</td>\n",
       "      <td>-0.358186</td>\n",
       "      <td>-0.282434</td>\n",
       "    </tr>\n",
       "    <tr>\n",
       "      <th>4</th>\n",
       "      <td>-1.715605</td>\n",
       "      <td>1.161161</td>\n",
       "      <td>-0.282434</td>\n",
       "    </tr>\n",
       "  </tbody>\n",
       "</table>\n",
       "</div>"
      ],
      "text/plain": [
       "   Student ID  MidTerm Scores  Final Scores\n",
       "0   -1.729454        1.540998      0.724952\n",
       "1   -1.725992        0.477455      1.091274\n",
       "2   -1.722530        0.173585     -0.557176\n",
       "3   -1.719067       -0.358186     -0.282434\n",
       "4   -1.715605        1.161161     -0.282434"
      ]
     },
     "execution_count": 3,
     "metadata": {},
     "output_type": "execute_result"
    }
   ],
   "source": [
    "midterm_scores = df['MidTerm Scores']\n",
    "normalized_df = (df - df.mean())/df.std()\n",
    "normalized_df.head()"
   ]
  },
  {
   "cell_type": "markdown",
   "metadata": {},
   "source": [
    "## a. Compare empirical variance before and after normalization"
   ]
  },
  {
   "cell_type": "code",
   "execution_count": 8,
   "metadata": {},
   "outputs": [
    {
     "name": "stdout",
     "output_type": "stream",
     "text": [
      "173.105775 0.999\n"
     ]
    }
   ],
   "source": [
    "#before_empirical_var = midterm_scores.var() # = 173.279\n",
    "mean = midterm_scores.sum()/len(midterm_scores)\n",
    "before_empirical_var = ((1/len(midterm_scores))*((midterm_scores**2).sum())) - (mean**2)\n",
    "\n",
    "normalized_midterm_scores = normalized_df['MidTerm Scores']\n",
    "normalized_mean = normalized_midterm_scores.sum()/len(normalized_midterm_scores)\n",
    "#after_empirical_var = normalized_midterm_scores.var() # = 1.000\n",
    "after_empirical_var = ((1/len(normalized_midterm_scores))*((normalized_midterm_scores**2).sum())) - (normalized_mean**2)\n",
    "print(before_empirical_var, after_empirical_var)"
   ]
  },
  {
   "cell_type": "markdown",
   "metadata": {},
   "source": [
    "## b. Given an original score of 90, what is the corresponding score after normalization?"
   ]
  },
  {
   "cell_type": "code",
   "execution_count": 5,
   "metadata": {},
   "outputs": [
    {
     "data": {
      "text/plain": [
       "Student ID       -1.417841\n",
       "MidTerm Scores    1.009226\n",
       "Final Scores      0.267049\n",
       "dtype: float64"
      ]
     },
     "execution_count": 5,
     "metadata": {},
     "output_type": "execute_result"
    }
   ],
   "source": [
    "original_score = 90\n",
    "corresponding_z_score = (original_score - df.mean())/df.std()\n",
    "corresponding_z_score"
   ]
  },
  {
   "cell_type": "markdown",
   "metadata": {},
   "source": [
    "## c. Pearson’s correlation coefficient between midterm scores and final scores is:"
   ]
  },
  {
   "cell_type": "code",
   "execution_count": 12,
   "metadata": {},
   "outputs": [
    {
     "data": {
      "text/plain": [
       "0.54442474231241222"
      ]
     },
     "execution_count": 12,
     "metadata": {},
     "output_type": "execute_result"
    }
   ],
   "source": [
    "normalized_midterm_scores = normalized_df['MidTerm Scores']\n",
    "normalized_final_scores = normalized_df['Final Scores']\n",
    "#pearson_corr = normalized_midterm_scores.corr(normalized_final_scores, method='pearson')\n",
    "pearson_corr = df['MidTerm Scores'].corr(df['Final Scores', method='pearson')\n",
    "\"{0:.3f}\".format(pearson_corr)"
   ]
  },
  {
   "cell_type": "markdown",
   "metadata": {},
   "source": [
    "## d. Covariance between midterm scores and final scores is:"
   ]
  },
  {
   "cell_type": "code",
   "execution_count": 14,
   "metadata": {},
   "outputs": [
    {
     "data": {
      "text/html": [
       "<div>\n",
       "<style>\n",
       "    .dataframe thead tr:only-child th {\n",
       "        text-align: right;\n",
       "    }\n",
       "\n",
       "    .dataframe thead th {\n",
       "        text-align: left;\n",
       "    }\n",
       "\n",
       "    .dataframe tbody tr th {\n",
       "        vertical-align: top;\n",
       "    }\n",
       "</style>\n",
       "<table border=\"1\" class=\"dataframe\">\n",
       "  <thead>\n",
       "    <tr style=\"text-align: right;\">\n",
       "      <th></th>\n",
       "      <th>MidTerm Scores</th>\n",
       "      <th>Final Scores</th>\n",
       "    </tr>\n",
       "  </thead>\n",
       "  <tbody>\n",
       "    <tr>\n",
       "      <th>MidTerm Scores</th>\n",
       "      <td>1.000000</td>\n",
       "      <td>0.544425</td>\n",
       "    </tr>\n",
       "    <tr>\n",
       "      <th>Final Scores</th>\n",
       "      <td>0.544425</td>\n",
       "      <td>1.000000</td>\n",
       "    </tr>\n",
       "  </tbody>\n",
       "</table>\n",
       "</div>"
      ],
      "text/plain": [
       "                MidTerm Scores  Final Scores\n",
       "MidTerm Scores        1.000000      0.544425\n",
       "Final Scores          0.544425      1.000000"
      ]
     },
     "execution_count": 14,
     "metadata": {},
     "output_type": "execute_result"
    }
   ],
   "source": [
    "normalized_df[['MidTerm Scores', 'Final Scores']].cov()\n",
    "#normalized_df_no_ids = normalized_df[['MidTerm Scores', 'Final Scores']]\n",
    "#cov_scores = normalized_df_no_ids.cov()\n",
    "#cov_scores"
   ]
  },
  {
   "cell_type": "markdown",
   "metadata": {},
   "source": [
    "We can see from parts c and d that the covariance and the Pearson correlation coefficient are the same, since the data is already normalized. As a result, the standard deviation of a normalized data set is 1, which simplifies the calculation for the Pearson correlation coefficient"
   ]
  }
 ],
 "metadata": {
  "kernelspec": {
   "display_name": "Python 3",
   "language": "python",
   "name": "python3"
  },
  "language_info": {
   "codemirror_mode": {
    "name": "ipython",
    "version": 3
   },
   "file_extension": ".py",
   "mimetype": "text/x-python",
   "name": "python",
   "nbconvert_exporter": "python",
   "pygments_lexer": "ipython3",
   "version": "3.6.1"
  }
 },
 "nbformat": 4,
 "nbformat_minor": 2
}
