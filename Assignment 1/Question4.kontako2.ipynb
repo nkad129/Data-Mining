{
 "cells": [
  {
   "cell_type": "code",
   "execution_count": 2,
   "metadata": {
    "collapsed": true
   },
   "outputs": [],
   "source": [
    "import pandas as pd\n",
    "import numpy as np"
   ]
  },
  {
   "cell_type": "markdown",
   "metadata": {},
   "source": [
    "## a. Calculate chi-square correlation value of customers' purchase history of diapers and beers\n",
    "\n",
    "A value that measures how likely it is that differences between two sets of data arose by chance. Mainly used to test goodness-of-fit, independence, or homogeneity."
   ]
  },
  {
   "cell_type": "code",
   "execution_count": 3,
   "metadata": {},
   "outputs": [
    {
     "data": {
      "text/html": [
       "<div>\n",
       "<style>\n",
       "    .dataframe thead tr:only-child th {\n",
       "        text-align: right;\n",
       "    }\n",
       "\n",
       "    .dataframe thead th {\n",
       "        text-align: left;\n",
       "    }\n",
       "\n",
       "    .dataframe tbody tr th {\n",
       "        vertical-align: top;\n",
       "    }\n",
       "</style>\n",
       "<table border=\"1\" class=\"dataframe\">\n",
       "  <thead>\n",
       "    <tr style=\"text-align: right;\">\n",
       "      <th></th>\n",
       "      <th>Buy Diaper</th>\n",
       "      <th>Do not buy diaper</th>\n",
       "      <th>Total</th>\n",
       "    </tr>\n",
       "  </thead>\n",
       "  <tbody>\n",
       "    <tr>\n",
       "      <th>Buy beer</th>\n",
       "      <td>150</td>\n",
       "      <td>40</td>\n",
       "      <td>190</td>\n",
       "    </tr>\n",
       "    <tr>\n",
       "      <th>Do not buy beer</th>\n",
       "      <td>15</td>\n",
       "      <td>3300</td>\n",
       "      <td>3315</td>\n",
       "    </tr>\n",
       "    <tr>\n",
       "      <th>Total</th>\n",
       "      <td>165</td>\n",
       "      <td>3340</td>\n",
       "      <td>3505</td>\n",
       "    </tr>\n",
       "  </tbody>\n",
       "</table>\n",
       "</div>"
      ],
      "text/plain": [
       "                 Buy Diaper  Do not buy diaper  Total\n",
       "Buy beer                150                 40    190\n",
       "Do not buy beer          15               3300   3315\n",
       "Total                   165               3340   3505"
      ]
     },
     "execution_count": 3,
     "metadata": {},
     "output_type": "execute_result"
    }
   ],
   "source": [
    "#Create data table with all observed cells, and respective totals\n",
    "\n",
    "question_4_data = [[150, 40, 190],[15, 3300, 3315], [165, 3340, 3505]]\n",
    "df = pd.DataFrame(question_4_data, columns=['Buy Diaper','Do not buy diaper', 'Total'])\n",
    "df.rename(index={0: 'Buy beer', 1: 'Do not buy beer', 2: 'Total'})"
   ]
  },
  {
   "cell_type": "code",
   "execution_count": 4,
   "metadata": {},
   "outputs": [
    {
     "data": {
      "text/plain": [
       "[8.9443651925820262,\n",
       " 179.70042796005706,\n",
       " 156.05563480741799,\n",
       " 3135.2995720399431]"
      ]
     },
     "execution_count": 4,
     "metadata": {},
     "output_type": "execute_result"
    }
   ],
   "source": [
    "#Calculate expected frequencies for each of the four cells\n",
    "\n",
    "total_count = df.iloc[2,2]\n",
    "e00 = (df.iloc[0,2] * df.iloc[2,0]) / total_count\n",
    "e01 = (df.iloc[0,2] * df.iloc[1,2]) / total_count\n",
    "e10 = (df.iloc[1,2] * df.iloc[2,0]) / total_count\n",
    "e11 = (df.iloc[1,2] * df.iloc[1,2]) / total_count\n",
    "expected_freqs = [e00,e01,e10,e11]\n",
    "expected_freqs"
   ]
  },
  {
   "cell_type": "code",
   "execution_count": 5,
   "metadata": {},
   "outputs": [
    {
     "data": {
      "text/plain": [
       "'2469.248'"
      ]
     },
     "execution_count": 5,
     "metadata": {},
     "output_type": "execute_result"
    }
   ],
   "source": [
    "#Calculate chi-squared statistic, with 1 degree of free. (2-1)(2-1) = 1\n",
    "\n",
    "chi_squared = 0\n",
    "freqs_counter = 0\n",
    "\n",
    "for i in range(len(df.columns) - 1):\n",
    "    for j in range(len(df.index) - 1):\n",
    "        chi_squared += (df.iloc[i, j] - expected_freqs[freqs_counter])**2 / expected_freqs[freqs_counter]\n",
    "        freqs_counter += 1\n",
    "\n",
    "\"{0:.3f}\".format(chi_squared) #verified by hand calculation ~ 2469"
   ]
  },
  {
   "cell_type": "markdown",
   "metadata": {},
   "source": [
    "### Based on the chi-squared statistic, we can conclude that the attributes of buying beer and diapers are strongly correlated."
   ]
  }
 ],
 "metadata": {
  "kernelspec": {
   "display_name": "Python 3",
   "language": "python",
   "name": "python3"
  },
  "language_info": {
   "codemirror_mode": {
    "name": "ipython",
    "version": 3
   },
   "file_extension": ".py",
   "mimetype": "text/x-python",
   "name": "python",
   "nbconvert_exporter": "python",
   "pygments_lexer": "ipython3",
   "version": "3.6.1"
  }
 },
 "nbformat": 4,
 "nbformat_minor": 2
}
